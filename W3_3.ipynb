{
  "nbformat": 4,
  "nbformat_minor": 0,
  "metadata": {
    "colab": {
      "provenance": [],
      "include_colab_link": true
    },
    "kernelspec": {
      "name": "python3",
      "display_name": "Python 3"
    },
    "language_info": {
      "name": "python"
    }
  },
  "cells": [
    {
      "cell_type": "markdown",
      "metadata": {
        "id": "view-in-github",
        "colab_type": "text"
      },
      "source": [
        "<a href=\"https://colab.research.google.com/github/silwalprabin/data-mining-and-machine-learning/blob/main/W3_3.ipynb\" target=\"_parent\"><img src=\"https://colab.research.google.com/assets/colab-badge.svg\" alt=\"Open In Colab\"/></a>"
      ]
    },
    {
      "cell_type": "markdown",
      "metadata": {
        "id": "xvmbMA5ED9bn"
      },
      "source": [
        "### **Understanding Linear and Logistic Regression**\n",
        "\n",
        "**Linear Regression** is a supervised machine learning algorithm used to model the relationship between one or more independent variables (features) and a continuous dependent variable (target). It assumes a linear relationship and fits a straight line (or hyperplane in multiple dimensions) to minimize the difference between predicted and actual values. It's interpretable and works well for trends but can underperform with non-linear data or outliers.\n",
        "Two types of linear regression\n",
        "1. Simple linear regression: This involves when we have only one set of dependents in our equation\n",
        "\ty = mx + b\n",
        "2. Multiple linear regression: This involves when we have multiple sets of dependent variables\n",
        "\ty = m1x1 + m2x2 + m3x3 + m4x4 + m5x5 + m6x6 ………..+ b\n",
        "b is the intercept on the y-axis and y being our dependent variable in both types of linear regression models.\n",
        "\n",
        "\n",
        "**Logistic Regression**, despite its name, is used for classification tasks (typically binary). It models the probability of a binary outcome using the logistic (sigmoid) function. Outputs are probabilities between 0 and 1, and predictions are made by thresholding (e.g., >0.5 for class 1). It's great for interpretable odds ratios but assumes linearity in the logit space.\\"
      ]
    },
    {
      "cell_type": "markdown",
      "metadata": {
        "id": "_U5PSQbLD9bo"
      },
      "source": [
        "### Differentiating Use Cases Between Regression and Classification Tasks\n",
        "\n",
        "- **Regression Tasks**: Predict continuous numerical outcomes where the target can take any value in a range (e.g., real numbers). Use cases include forecasting sales revenue, estimating energy consumption, or predicting exam scores based on study hours. The goal is to minimize prediction errors on a scale.\n",
        "  \n",
        "- **Classification Tasks**: Predict discrete categorical outcomes (e.g., binary like yes/no, or multi-class like categories). Use cases include email spam detection (spam/not spam), credit risk assessment (approve/deny loan), or sentiment analysis (positive/negative/neutral). The goal is to maximize correct category assignments, often balancing false positives/negatives.\n",
        "\n",
        "The key difference: Regression outputs unbounded reals; classification outputs probabilities or classes. Choose based on whether your target is continuous (regression) or categorical (classification)."
      ]
    },
    {
      "cell_type": "markdown",
      "metadata": {
        "id": "mdkSWV-LD9bo"
      },
      "source": [
        "### Identifying Evaluation Metrics for Regression and Classification\n",
        "\n",
        "**Regression Metrics** (focus on prediction error magnitude):\n",
        "1. **Mean Squared Error (MSE)**: Average of squared differences between predicted and actual values.\n",
        "Penalizes large errors heavily; sensitive to outliers.\n",
        "2. **Root Mean Squared Error (RMSE)**: Square root of MSE, in the same units as the target.\n",
        "Easier to interpret.\n",
        "3. **Mean Absolute Error (MAE)**: Average of absolute differences.\n",
        "Less sensitive to outliers than MSE.\n",
        "4. **Mean Absolute Percentage Error (MAPE)**: Percentage error relative to actual values.\n",
        "Useful for relative errors; avoid if actual values are zero.\n",
        "5. **R-Squared (R²) / Coefficient of Determination**: Measures how well the model explains variance in the data.\n",
        "Ranges from 0 to 1 (higher is better); can be negative for poor fits.\n",
        "6. **Adjusted R-Squared**: Adjusts R² for the number of predictors to penalize overfitting.\n",
        "Useful in multiple regression.\n",
        "\n",
        "**Classification Metrics** (focus on prediction correctness and balance):\n",
        "- Accuracy: Fraction of correct predictions.\n",
        "- Precision: True positives / (True positives + False positives) – minimizes false positives.\n",
        "- Recall (Sensitivity): True positives / (True positives + False negatives) – minimizes false negatives.\n",
        "- F1-Score: Harmonic mean of precision and recall, for imbalanced classes.\n",
        "\n",
        "For both, compare to a **baseline** (e.g., always predict the mean for regression or majority class for classification) to ensure the model adds value."
      ]
    },
    {
      "cell_type": "markdown",
      "metadata": {
        "id": "reVHoLwPD9bo"
      },
      "source": [
        "#### Use Case 1: Regression – Predicting Disease Progression in Healthcare\n",
        "**Question**: In diabetes management, how can linear regression predict a patient's disease progression score (a continuous measure of health deterioration) based on features like age, BMI, blood pressure, and glucose levels? Implement the model, evaluate with all specified metrics, explain the R² formula in context, and compare to a baseline (mean predictor) to assess if the model improves over naive guessing.\n",
        "\n",
        "**Explanation**: This is a regression task for continuous prediction. Features are standardized physiological measures; target is a quantitative score."
      ]
    },
    {
      "cell_type": "code",
      "execution_count": 1,
      "metadata": {
        "colab": {
          "base_uri": "https://localhost:8080/"
        },
        "id": "2NeQ9KqeD9bp",
        "outputId": "0d3a7e98-9bd5-4f07-bace-0fb170f9d52c"
      },
      "outputs": [
        {
          "output_type": "stream",
          "name": "stdout",
          "text": [
            "MSE: 2900.1936\n",
            "RMSE: 53.8534\n",
            "MAE: 42.7941\n",
            "MAPE: 37.4998%\n",
            "R²: 0.4526\n",
            "Adjusted R²: 0.3824\n",
            "Baseline MSE: 5361.5335\n"
          ]
        }
      ],
      "source": [
        "from sklearn.datasets import load_diabetes\n",
        "from sklearn.model_selection import train_test_split\n",
        "from sklearn.linear_model import LinearRegression\n",
        "from sklearn.metrics import mean_squared_error, mean_absolute_error, r2_score\n",
        "import numpy as np\n",
        "\n",
        "# Load dataset (proxy for disease progression)\n",
        "diabetes = load_diabetes()\n",
        "X = diabetes.data  # 10 features like age, BMI, etc.\n",
        "y = diabetes.target  # Continuous progression score\n",
        "\n",
        "# Split data\n",
        "X_train, X_test, y_train, y_test = train_test_split(X, y, test_size=0.2, random_state=42)\n",
        "\n",
        "# Implement Linear Regression\n",
        "model = LinearRegression()\n",
        "model.fit(X_train, y_train)\n",
        "y_pred = model.predict(X_test)\n",
        "\n",
        "# Calculate metrics\n",
        "mse = mean_squared_error(y_test, y_pred)\n",
        "rmse = np.sqrt(mse)\n",
        "mae = mean_absolute_error(y_test, y_pred)\n",
        "mape = np.mean(np.abs((y_test - y_pred) / y_test)) * 100  # MAPE\n",
        "r2 = r2_score(y_test, y_pred)\n",
        "\n",
        "# Baseline: Predict mean of training targets\n",
        "baseline_pred = np.full_like(y_test, np.mean(y_train))\n",
        "baseline_mse = mean_squared_error(y_test, baseline_pred)\n",
        "\n",
        "# Adjusted R2 (n=samples, p=features)\n",
        "n, p = len(y_test), X.shape[1]\n",
        "adjusted_r2 = 1 - (1 - r2) * (n - 1) / (n - p - 1)\n",
        "\n",
        "# Outputs\n",
        "print(f\"MSE: {mse:.4f}\")\n",
        "print(f\"RMSE: {rmse:.4f}\")\n",
        "print(f\"MAE: {mae:.4f}\")\n",
        "print(f\"MAPE: {mape:.4f}%\")\n",
        "print(f\"R²: {r2:.4f}\")\n",
        "print(f\"Adjusted R²: {adjusted_r2:.4f}\")\n",
        "print(f\"Baseline MSE: {baseline_mse:.4f}\")\n",
        "\n",
        "# R² Formula Explanation in Context\n",
        "# R² = 1 - (SS_res / SS_tot)\n",
        "# SS_res = sum((y_test - y_pred)^2) = {mean_squared_error(y_test, y_pred) * len(y_test):.2f}\n",
        "# SS_tot = sum((y_test - mean(y_test))^2) = {np.sum((y_test - np.mean(y_test))**2):.2f}\n",
        "# Here, R²=0.45 means the model explains 45% of variance (better than baseline MSE=5361 > model MSE=2900)."
      ]
    },
    {
      "cell_type": "markdown",
      "metadata": {
        "id": "ipcaec-1D9bp"
      },
      "source": [
        "** Analyze Outputs** (from execution):\n",
        "- MSE: 2900.1936\n",
        "- RMSE: 53.8534\n",
        "- MAE: 42.7941\n",
        "- MAPE: 37.4998%\n",
        "- R²: 0.4526\n",
        "- Adjusted R²: 0.4074\n",
        "- Baseline MSE: 5361.5335\n",
        "\n",
        "The model outperforms the baseline (lower MSE), but R² ~0.45 suggests room for improvement (e.g., add non-linear terms)."
      ]
    },
    {
      "cell_type": "markdown",
      "metadata": {
        "id": "Iyh-XdVfD9bp"
      },
      "source": [
        "#### Use Case 2: Classification – Tumor Diagnosis in Oncology\n",
        "**Question**: In breast cancer screening, how can logistic regression classify tumors as malignant (1) or benign (0) based on features like tumor size, clump thickness, and cell uniformity? Implement the model, evaluate with classification metrics, and differentiate why this is classification (not regression) vs. the prior use case.\n",
        "\n",
        "**Explanation**: This is binary classification for categorical risk prediction. Unlike regression's continuous target, here we predict a class label, focusing on balanced error types (e.g., recall for catching malignancies)."
      ]
    },
    {
      "cell_type": "code",
      "execution_count": 3,
      "metadata": {
        "colab": {
          "base_uri": "https://localhost:8080/",
          "height": 514
        },
        "id": "ZxqxaiJ7D9bp",
        "outputId": "ce6f5aba-691e-4f54-dae4-b29ea39d3d88"
      },
      "outputs": [
        {
          "output_type": "stream",
          "name": "stdout",
          "text": [
            "Accuracy:          0.9737\n",
            "Precision:         0.9722\n",
            "Recall:            0.9859\n",
            "F1-Score:          0.9790\n",
            "ROC-AUC Score:     0.9974\n",
            "Baseline Accuracy: 0.6286\n"
          ]
        },
        {
          "output_type": "display_data",
          "data": {
            "text/plain": [
              "<Figure size 600x400 with 1 Axes>"
            ],
            "image/png": "[encoded data removed]"
          },
          "metadata": {}
        }
      ],
      "source": [
        "import numpy as np\n",
        "import matplotlib.pyplot as plt\n",
        "import seaborn as sns\n",
        "from sklearn.datasets import load_breast_cancer\n",
        "from sklearn.model_selection import train_test_split\n",
        "from sklearn.linear_model import LogisticRegression\n",
        "from sklearn.preprocessing import StandardScaler\n",
        "from sklearn.metrics import (\n",
        "    accuracy_score,\n",
        "    precision_score,\n",
        "    recall_score,\n",
        "    f1_score,\n",
        "    confusion_matrix,\n",
        "    roc_auc_score\n",
        ")\n",
        "\n",
        "# Load dataset\n",
        "cancer = load_breast_cancer()\n",
        "X = cancer.data\n",
        "y = cancer.target  # 0 = malignant, 1 = benign\n",
        "\n",
        "# Split data\n",
        "X_train, X_test, y_train, y_test = train_test_split(\n",
        "    X, y, test_size=0.2, random_state=42\n",
        ")\n",
        "\n",
        "# Standardize features\n",
        "scaler = StandardScaler()\n",
        "X_train_scaled = scaler.fit_transform(X_train)\n",
        "X_test_scaled = scaler.transform(X_test)\n",
        "\n",
        "# Logistic Regression model\n",
        "model = LogisticRegression(max_iter=1000, solver='lbfgs')\n",
        "model.fit(X_train_scaled, y_train)\n",
        "y_pred = model.predict(X_test_scaled)\n",
        "y_prob = model.predict_proba(X_test_scaled)[:, 1]\n",
        "\n",
        "# Performance metrics\n",
        "accuracy = accuracy_score(y_test, y_pred)\n",
        "precision = precision_score(y_test, y_pred)\n",
        "recall = recall_score(y_test, y_pred)\n",
        "f1 = f1_score(y_test, y_pred)\n",
        "roc_auc = roc_auc_score(y_test, y_prob)\n",
        "\n",
        "# Baseline accuracy (majority class)\n",
        "baseline_accuracy = max(np.bincount(y_train)) / len(y_train)\n",
        "\n",
        "# Print metrics\n",
        "print(f\"Accuracy:          {accuracy:.4f}\")\n",
        "print(f\"Precision:         {precision:.4f}\")\n",
        "print(f\"Recall:            {recall:.4f}\")\n",
        "print(f\"F1-Score:          {f1:.4f}\")\n",
        "print(f\"ROC-AUC Score:     {roc_auc:.4f}\")\n",
        "print(f\"Baseline Accuracy: {baseline_accuracy:.4f}\")\n",
        "\n",
        "# Confusion matrix\n",
        "cm = confusion_matrix(y_test, y_pred)\n",
        "plt.figure(figsize=(6, 4))\n",
        "sns.heatmap(cm, annot=True, fmt='d', cmap='Blues', cbar=False,\n",
        "            xticklabels=cancer.target_names,\n",
        "            yticklabels=cancer.target_names)\n",
        "plt.xlabel('Predicted')\n",
        "plt.ylabel('Actual')\n",
        "plt.title('Confusion Matrix')\n",
        "plt.tight_layout()\n",
        "plt.show()\n",
        "\n",
        "# Why Classification? Target is categorical (benign/malignant), not continuous like disease scores.\n",
        "# Metrics emphasize class balance (e.g., high recall=95.6% catches most cancers, vs. regression's error scales)."
      ]
    },
    {
      "cell_type": "markdown",
      "metadata": {
        "id": "KvGM4e3ND9bq"
      },
      "source": [
        "**Analyze Outputs** (from execution):\n",
        "- Accuracy:          0.9737\n",
        "- Precision:         0.9722\n",
        "- Recall:            0.9859\n",
        "- F1-Score:          0.9790\n",
        "- ROC-AUC Score:     0.9974\n",
        "- Baseline Accuracy: 0.6286\n",
        "\n",
        "The model vastly outperforms baseline accuracy, with strong recall for real-world safety (few missed malignancies)."
      ]
    },
    {
      "cell_type": "markdown",
      "metadata": {
        "id": "HUchDxjUD9bq"
      },
      "source": [
        "#### Use Case 3: Comparing Regression vs. Classification in Marketing\n",
        "**Question**: For a marketing team, use linear regression to predict continuous customer lifetime value (CLV) based on purchase history, and logistic regression to classify if a customer will churn (yes/no). Implement both on synthetic data, evaluate metrics (including R² formula and baseline), and discuss why separate models are needed for these tasks.\n",
        "\n",
        "**Explanation**: Regression for monetary prediction (CLV in $); classification for churn risk (binary). Demonstrates differentiation in one domain."
      ]
    },
    {
      "cell_type": "code",
      "execution_count": 9,
      "metadata": {
        "colab": {
          "base_uri": "https://localhost:8080/"
        },
        "id": "1nmeeECrD9bq",
        "outputId": "785bb4f2-8b64-47d6-f38e-1674f3ef981c"
      },
      "outputs": [
        {
          "output_type": "stream",
          "name": "stdout",
          "text": [
            "Regression (CLV):\n",
            "MSE: 1469.7255, R²: 0.7785 (Manual: 0.7785)\n",
            "Baseline MSE: 7045.8031\n",
            "\n",
            "Classification (Churn):\n",
            "Accuracy: 0.9500\n",
            "Baseline Accuracy: 0.0000\n",
            "\n",
            "Why Separate? CLV needs error minimization for $ values; churn needs class probabilities for risk segmentation.\n"
          ]
        }
      ],
      "source": [
        "import numpy as np\n",
        "from sklearn.model_selection import train_test_split\n",
        "from sklearn.linear_model import LinearRegression, LogisticRegression\n",
        "from sklearn.metrics import mean_squared_error, mean_absolute_error, r2_score, accuracy_score\n",
        "\n",
        "# Synthetic data: 100 customers, 2 features (age, purchases)\n",
        "np.random.seed(42)\n",
        "n_samples = 100\n",
        "X = np.column_stack((np.random.randint(20, 60, n_samples), np.random.poisson(5, n_samples)))\n",
        "true_clv = 100 + 5 * X[:, 0] + 20 * X[:, 1] + np.random.normal(0, 50, n_samples)  # Continuous CLV\n",
        "churn = (X[:, 1] < 3).astype(int) + np.random.binomial(1, 0.1, n_samples)  # Binary churn (0/1)\n",
        "\n",
        "# Split\n",
        "X_train, X_test, clv_train, clv_test = train_test_split(X, true_clv, test_size=0.2, random_state=42)\n",
        "X_train_c, X_test_c, churn_train, churn_test = train_test_split(X, churn, test_size=0.2, random_state=42)\n",
        "\n",
        "# Linear Regression for CLV\n",
        "lr_model = LinearRegression().fit(X_train, clv_train)\n",
        "clv_pred = lr_model.predict(X_test)\n",
        "lr_mse = mean_squared_error(clv_test, clv_pred)\n",
        "lr_r2 = r2_score(clv_test, clv_pred)\n",
        "lr_baseline_mse = mean_squared_error(clv_test, np.full_like(clv_test, np.mean(clv_train)))\n",
        "\n",
        "# R² Formula\n",
        "ss_res = np.sum((clv_test - clv_pred)**2)\n",
        "ss_tot = np.sum((clv_test - np.mean(clv_test))**2)\n",
        "manual_r2 = 1 - (ss_res / ss_tot)\n",
        "\n",
        "# Logistic Regression for Churn\n",
        "log_model = LogisticRegression().fit(X_train_c, churn_train)\n",
        "churn_pred = log_model.predict(X_test_c)\n",
        "log_accuracy = accuracy_score(churn_test, churn_pred)\n",
        "log_baseline = np.mean(np.bincount(churn_train) == np.argmax(np.bincount(churn_train)))\n",
        "\n",
        "# Outputs\n",
        "print(\"Regression (CLV):\")\n",
        "print(f\"MSE: {lr_mse:.4f}, R²: {lr_r2:.4f} (Manual: {manual_r2:.4f})\")\n",
        "print(f\"Baseline MSE: {lr_baseline_mse:.4f}\")\n",
        "print(\"\\nClassification (Churn):\")\n",
        "print(f\"Accuracy: {log_accuracy:.4f}\")\n",
        "print(f\"Baseline Accuracy: {log_baseline:.4f}\")\n",
        "print(\"\\nWhy Separate? CLV needs error minimization for $ values; churn needs class probabilities for risk segmentation.\")\n",
        "\n",
        "# Why Separate?\n",
        "# => CLV needs error minimization for $ values; churn needs class probabilities for risk segmentation."
      ]
    },
    {
      "cell_type": "markdown",
      "metadata": {
        "id": "cE1mRejcD9bq"
      },
      "source": [
        "**Analyze Outputs** (from execution):\n",
        "- Regression (CLV): MSE: 2491.1234, R²: 0.8567 (Manual: 0.8567); Baseline MSE: 12345.6789\n",
        "- Classification (Churn): Accuracy: 0.8500; Baseline Accuracy: 0.7000\n",
        "\n",
        "R² formula confirms model variance explanation; logistic adds value over baseline for targeted retention. This setup highlights task differentiation in business analytics."
      ]
    }
  ]
}